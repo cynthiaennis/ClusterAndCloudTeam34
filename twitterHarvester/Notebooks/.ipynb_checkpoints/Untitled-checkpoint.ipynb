{
 "cells": [
  {
   "cell_type": "code",
   "execution_count": 13,
   "metadata": {},
   "outputs": [
    {
     "name": "stdout",
     "output_type": "stream",
     "text": [
      "\u001b[34mNotebooks\u001b[m\u001b[m              melborune_search_json  user_tracker.py\r\n",
      "\u001b[34m__pycache__\u001b[m\u001b[m            searcher.py            utils.py\r\n",
      "geelong_search_json    streamer.py\r\n",
      "key_word_ids.json      twitter_credentials.py\r\n"
     ]
    }
   ],
   "source": [
    "!ls ..\n"
   ]
  },
  {
   "cell_type": "code",
   "execution_count": 14,
   "metadata": {},
   "outputs": [],
   "source": [
    "import json\n",
    "import pandas as pd\n",
    "import numpy as np\n",
    "import re\n",
    "\n",
    "def make_df_from_tweets(tweets):\n",
    "    \"\"\"\n",
    "    Params\n",
    "    -------------------------\n",
    "    tweets : list of jsons\n",
    "\n",
    "    Returns\n",
    "    -------------------------\n",
    "    pd.Dataframe\n",
    "    \"\"\"\n",
    "    df = pd.DataFrame(\n",
    "        data=[tweet['text'] for tweet in tweets], columns=['tweets'])\n",
    "    df['screen_name'] = np.array(\n",
    "        [tweet['user'][\"screen_name\"] for tweet in tweets])\n",
    "    df[\"user_id\"] = np.array(\n",
    "        [tweet['user']['id'] for tweet in tweets])\n",
    "    df[\"user_location\"] = np.array(\n",
    "        [tweet['user']['location'] for tweet in tweets])\n",
    "    df['id'] = np.array([tweet['id'] for tweet in tweets])\n",
    "    df['len'] = np.array([len(tweet['text']) for tweet in tweets])\n",
    "    df['date'] = np.array([tweet['created_at'] for tweet in tweets])\n",
    "    df['source'] = np.array(\n",
    "        [re.sub('<[^<]+?>', '', tweet['source']) for tweet in tweets])\n",
    "    df['likes'] = np.array([tweet['favorite_count'] for tweet in tweets])\n",
    "    df['retweets'] = np.array([tweet['retweet_count'] for tweet in tweets])\n",
    "    df['coor'] = np.array([tweet[\"coordinates\"] for tweet in tweets])\n",
    "\n",
    "    df['hashtags'] = np.array([tweet['entities']['hashtags']\n",
    "                               for tweet in tweets])\n",
    "    return df\n",
    "\n",
    "def read_dat(file_path):\n",
    "    \n",
    "    lines = []\n",
    "    with open(file_path) as f:\n",
    "    \n",
    "        for line in f.readlines():\n",
    "            line = line.strip()\n",
    "            lines.append(json.loads(line))\n",
    "    return lines\n",
    "\n",
    "\n",
    "    \n",
    "\n",
    "with open(\"../melborune_search_json\") as f:\n",
    "    \n",
    "    for line in f.readlines():\n",
    "        line = line.strip()\n",
    "        lines.append(json.loads(line))\n",
    "\n",
    "geelong_dat = []\n",
    "\n",
    "with open(\"../geelong_search_json\") as f:\n",
    "    \n",
    "    for line in f.readlines():\n",
    "        line = line.strip()\n",
    "        geelong_dat.append(json.loads(line)) \n",
    "\n",
    "        \n",
    "melbourne_df = make_df_from_tweets(lines)\n",
    "geelong_df = make_df_from_tweets(geelong_dat)"
   ]
  },
  {
   "cell_type": "code",
   "execution_count": 15,
   "metadata": {},
   "outputs": [
    {
     "name": "stdout",
     "output_type": "stream",
     "text": [
      "(3391, 12)\n",
      "(12794, 12)\n"
     ]
    }
   ],
   "source": [
    "print(geelong_df.shape)\n",
    "print(melbourne_df.shape)"
   ]
  },
  {
   "cell_type": "code",
   "execution_count": 23,
   "metadata": {},
   "outputs": [],
   "source": [
    "from textblob import TextBlob\n",
    "\n",
    "def is_negative_sentiment(text):\n",
    "    \n",
    "    blob = TextBlob(text)\n",
    "    \n",
    "    score = blob.sentiment.polarity\n",
    "    \n",
    "    if score < 0:\n",
    "        return 1\n",
    "    else:\n",
    "        return 0"
   ]
  },
  {
   "cell_type": "code",
   "execution_count": 24,
   "metadata": {},
   "outputs": [
    {
     "data": {
      "text/html": [
       "<div>\n",
       "<style scoped>\n",
       "    .dataframe tbody tr th:only-of-type {\n",
       "        vertical-align: middle;\n",
       "    }\n",
       "\n",
       "    .dataframe tbody tr th {\n",
       "        vertical-align: top;\n",
       "    }\n",
       "\n",
       "    .dataframe thead th {\n",
       "        text-align: right;\n",
       "    }\n",
       "</style>\n",
       "<table border=\"1\" class=\"dataframe\">\n",
       "  <thead>\n",
       "    <tr style=\"text-align: right;\">\n",
       "      <th></th>\n",
       "      <th>tweets</th>\n",
       "      <th>screen_name</th>\n",
       "      <th>user_id</th>\n",
       "      <th>user_location</th>\n",
       "      <th>id</th>\n",
       "      <th>len</th>\n",
       "      <th>date</th>\n",
       "      <th>source</th>\n",
       "      <th>likes</th>\n",
       "      <th>retweets</th>\n",
       "      <th>coor</th>\n",
       "      <th>hashtags</th>\n",
       "      <th>is_negative</th>\n",
       "    </tr>\n",
       "  </thead>\n",
       "  <tbody>\n",
       "    <tr>\n",
       "      <th>0</th>\n",
       "      <td>RT @RichardMarlesMP: Congratulations to the no...</td>\n",
       "      <td>billmithen</td>\n",
       "      <td>946700910</td>\n",
       "      <td></td>\n",
       "      <td>1124169236362874880</td>\n",
       "      <td>139</td>\n",
       "      <td>Fri May 03 04:30:06 +0000 2019</td>\n",
       "      <td>Twitter for iPhone</td>\n",
       "      <td>0</td>\n",
       "      <td>6</td>\n",
       "      <td>None</td>\n",
       "      <td>[]</td>\n",
       "      <td>0</td>\n",
       "    </tr>\n",
       "    <tr>\n",
       "      <th>1</th>\n",
       "      <td>Pre poll is heaving #auspol #corangamite \\n\\nT...</td>\n",
       "      <td>thecattery</td>\n",
       "      <td>31690313</td>\n",
       "      <td>Geelong, Victoria, Australia</td>\n",
       "      <td>1124165391213662208</td>\n",
       "      <td>140</td>\n",
       "      <td>Fri May 03 04:14:49 +0000 2019</td>\n",
       "      <td>Twitter for Android</td>\n",
       "      <td>0</td>\n",
       "      <td>0</td>\n",
       "      <td>None</td>\n",
       "      <td>[{'text': 'auspol', 'indices': [20, 27]}, {'te...</td>\n",
       "      <td>0</td>\n",
       "    </tr>\n",
       "    <tr>\n",
       "      <th>2</th>\n",
       "      <td>RT @RichardMarlesMP: \"All we've had here when ...</td>\n",
       "      <td>OtwaysVic</td>\n",
       "      <td>4665184285</td>\n",
       "      <td>South West, Victoria</td>\n",
       "      <td>1124162334757347328</td>\n",
       "      <td>140</td>\n",
       "      <td>Fri May 03 04:02:41 +0000 2019</td>\n",
       "      <td>Twitter Web Client</td>\n",
       "      <td>0</td>\n",
       "      <td>2</td>\n",
       "      <td>None</td>\n",
       "      <td>[]</td>\n",
       "      <td>0</td>\n",
       "    </tr>\n",
       "    <tr>\n",
       "      <th>3</th>\n",
       "      <td>Bloody hell @RichardMarlesMP is out in Belmont...</td>\n",
       "      <td>thecattery</td>\n",
       "      <td>31690313</td>\n",
       "      <td>Geelong, Victoria, Australia</td>\n",
       "      <td>1124159694900060160</td>\n",
       "      <td>112</td>\n",
       "      <td>Fri May 03 03:52:11 +0000 2019</td>\n",
       "      <td>Twitter for Android</td>\n",
       "      <td>0</td>\n",
       "      <td>0</td>\n",
       "      <td>None</td>\n",
       "      <td>[{'text': 'Corio', 'indices': [61, 67]}, {'tex...</td>\n",
       "      <td>1</td>\n",
       "    </tr>\n",
       "    <tr>\n",
       "      <th>4</th>\n",
       "      <td>RT @zacpower01: Australia is a secular, plural...</td>\n",
       "      <td>chomskyrose</td>\n",
       "      <td>1098537850159620096</td>\n",
       "      <td>Perth, Western Australia</td>\n",
       "      <td>1124154346864693249</td>\n",
       "      <td>140</td>\n",
       "      <td>Fri May 03 03:30:56 +0000 2019</td>\n",
       "      <td>Twitter for iPhone</td>\n",
       "      <td>0</td>\n",
       "      <td>7</td>\n",
       "      <td>None</td>\n",
       "      <td>[]</td>\n",
       "      <td>0</td>\n",
       "    </tr>\n",
       "  </tbody>\n",
       "</table>\n",
       "</div>"
      ],
      "text/plain": [
       "                                              tweets  screen_name  \\\n",
       "0  RT @RichardMarlesMP: Congratulations to the no...   billmithen   \n",
       "1  Pre poll is heaving #auspol #corangamite \\n\\nT...   thecattery   \n",
       "2  RT @RichardMarlesMP: \"All we've had here when ...    OtwaysVic   \n",
       "3  Bloody hell @RichardMarlesMP is out in Belmont...   thecattery   \n",
       "4  RT @zacpower01: Australia is a secular, plural...  chomskyrose   \n",
       "\n",
       "               user_id                 user_location                   id  \\\n",
       "0            946700910                                1124169236362874880   \n",
       "1             31690313  Geelong, Victoria, Australia  1124165391213662208   \n",
       "2           4665184285          South West, Victoria  1124162334757347328   \n",
       "3             31690313  Geelong, Victoria, Australia  1124159694900060160   \n",
       "4  1098537850159620096      Perth, Western Australia  1124154346864693249   \n",
       "\n",
       "   len                            date               source  likes  retweets  \\\n",
       "0  139  Fri May 03 04:30:06 +0000 2019   Twitter for iPhone      0         6   \n",
       "1  140  Fri May 03 04:14:49 +0000 2019  Twitter for Android      0         0   \n",
       "2  140  Fri May 03 04:02:41 +0000 2019   Twitter Web Client      0         2   \n",
       "3  112  Fri May 03 03:52:11 +0000 2019  Twitter for Android      0         0   \n",
       "4  140  Fri May 03 03:30:56 +0000 2019   Twitter for iPhone      0         7   \n",
       "\n",
       "   coor                                           hashtags  is_negative  \n",
       "0  None                                                 []            0  \n",
       "1  None  [{'text': 'auspol', 'indices': [20, 27]}, {'te...            0  \n",
       "2  None                                                 []            0  \n",
       "3  None  [{'text': 'Corio', 'indices': [61, 67]}, {'tex...            1  \n",
       "4  None                                                 []            0  "
      ]
     },
     "execution_count": 24,
     "metadata": {},
     "output_type": "execute_result"
    }
   ],
   "source": [
    "geelong_df['is_negative'] = geelong_df['tweets'].map(lambda x:is_negative_sentiment(x))\n",
    "geelong_df.head()"
   ]
  },
  {
   "cell_type": "code",
   "execution_count": 25,
   "metadata": {},
   "outputs": [],
   "source": [
    "melbourne_df['is_negative'] = melbourne_df['tweets'].map(lambda x:is_negative_sentiment(x))\n"
   ]
  },
  {
   "cell_type": "code",
   "execution_count": 27,
   "metadata": {},
   "outputs": [
    {
     "data": {
      "text/plain": [
       "0.18460631082276616"
      ]
     },
     "execution_count": 27,
     "metadata": {},
     "output_type": "execute_result"
    }
   ],
   "source": [
    "geelong_df['is_negative'].sum() / geelong_df.shape[0]"
   ]
  },
  {
   "cell_type": "code",
   "execution_count": 28,
   "metadata": {},
   "outputs": [
    {
     "data": {
      "text/plain": [
       "0.19290292324527122"
      ]
     },
     "execution_count": 28,
     "metadata": {},
     "output_type": "execute_result"
    }
   ],
   "source": [
    "melbourne_df['is_negative'].sum() / melbourne_df.shape[0]"
   ]
  },
  {
   "cell_type": "code",
   "execution_count": 42,
   "metadata": {},
   "outputs": [
    {
     "data": {
      "text/plain": [
       "source\n",
       "Twitter Web App        1166\n",
       "Twitter for iPad       1454\n",
       "Twitter Web Client     2319\n",
       "Twitter for Android    3036\n",
       "Twitter for iPhone     4241\n",
       "Name: tweets, dtype: int64"
      ]
     },
     "execution_count": 42,
     "metadata": {},
     "output_type": "execute_result"
    }
   ],
   "source": [
    "melbourne_df.groupby('source').count()['tweets'].sort_values()[-5:]"
   ]
  },
  {
   "cell_type": "code",
   "execution_count": 43,
   "metadata": {},
   "outputs": [
    {
     "data": {
      "text/plain": [
       "source\n",
       "Twitter Web App         256\n",
       "Twitter for iPad        531\n",
       "Twitter Web Client      681\n",
       "Twitter for Android     801\n",
       "Twitter for iPhone     1065\n",
       "Name: tweets, dtype: int64"
      ]
     },
     "execution_count": 43,
     "metadata": {},
     "output_type": "execute_result"
    }
   ],
   "source": [
    "geelong_df.groupby('source').count()['tweets'].sort_values()[-5:]"
   ]
  },
  {
   "cell_type": "code",
   "execution_count": null,
   "metadata": {},
   "outputs": [],
   "source": []
  }
 ],
 "metadata": {
  "kernelspec": {
   "display_name": "Python 3",
   "language": "python",
   "name": "python3"
  },
  "language_info": {
   "codemirror_mode": {
    "name": "ipython",
    "version": 3
   },
   "file_extension": ".py",
   "mimetype": "text/x-python",
   "name": "python",
   "nbconvert_exporter": "python",
   "pygments_lexer": "ipython3",
   "version": "3.6.8"
  }
 },
 "nbformat": 4,
 "nbformat_minor": 2
}
